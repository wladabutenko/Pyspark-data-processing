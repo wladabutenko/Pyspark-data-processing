{
 "cells": [
  {
   "cell_type": "code",
   "execution_count": 2,
   "metadata": {
    "collapsed": true,
    "ExecuteTime": {
     "end_time": "2023-07-04T11:55:02.060276300Z",
     "start_time": "2023-07-04T11:55:02.052150100Z"
    }
   },
   "outputs": [],
   "source": [
    "import findspark\n",
    "findspark.init()"
   ]
  },
  {
   "cell_type": "markdown",
   "source": [
    "Creating a Spark Session"
   ],
   "metadata": {
    "collapsed": false
   }
  },
  {
   "cell_type": "code",
   "execution_count": 3,
   "outputs": [],
   "source": [
    "from pyspark.sql import SparkSession"
   ],
   "metadata": {
    "collapsed": false,
    "ExecuteTime": {
     "end_time": "2023-07-04T11:55:16.698410100Z",
     "start_time": "2023-07-04T11:55:16.543075200Z"
    }
   }
  },
  {
   "cell_type": "code",
   "execution_count": 4,
   "outputs": [],
   "source": [
    "spark = SparkSession.builder.config(\"spark.serializer\", \"org.apache.spark.serializer.KryoSerializer\").getOrCreate()"
   ],
   "metadata": {
    "collapsed": false,
    "ExecuteTime": {
     "end_time": "2023-07-04T11:55:29.003243300Z",
     "start_time": "2023-07-04T11:55:17.407681500Z"
    }
   }
  },
  {
   "cell_type": "markdown",
   "source": [
    "Creating Dataframes"
   ],
   "metadata": {
    "collapsed": false
   }
  },
  {
   "cell_type": "code",
   "execution_count": 5,
   "outputs": [],
   "source": [
    "import pyspark.sql.functions as F\n",
    "from pyspark.sql.types import *"
   ],
   "metadata": {
    "collapsed": false,
    "ExecuteTime": {
     "end_time": "2023-07-04T11:55:36.272989300Z",
     "start_time": "2023-07-04T11:55:36.267439900Z"
    }
   }
  },
  {
   "cell_type": "code",
   "execution_count": 6,
   "outputs": [],
   "source": [
    "schema = StructType([ \\\n",
    "    StructField(\"user_id\", StringType(), True), \\\n",
    "    StructField(\"country\", StringType(), True), \\\n",
    "    StructField(\"browser\", StringType(), True), \\\n",
    "    StructField(\"OS\", StringType(), True), \\\n",
    "    StructField(\"age\", IntegerType(), True) \\\n",
    "    ])"
   ],
   "metadata": {
    "collapsed": false,
    "ExecuteTime": {
     "end_time": "2023-07-04T11:55:37.436819600Z",
     "start_time": "2023-07-04T11:55:37.434360Z"
    }
   }
  },
  {
   "cell_type": "code",
   "execution_count": 7,
   "outputs": [],
   "source": [
    "data2 = [(\"A203\",'India',\"Chrome\",\"WIN\", 33),\n",
    "         (\"A201\",'China',\"Safari\",\"MacOS\",35),\n",
    "         (\"A205\",'UK',\"Mozilla\",\"Linux\",25)]"
   ],
   "metadata": {
    "collapsed": false,
    "ExecuteTime": {
     "end_time": "2023-07-04T11:55:38.704688100Z",
     "start_time": "2023-07-04T11:55:38.696476500Z"
    }
   }
  },
  {
   "cell_type": "code",
   "execution_count": 8,
   "outputs": [],
   "source": [
    "df = spark.createDataFrame(data=data2,schema=schema)"
   ],
   "metadata": {
    "collapsed": false,
    "ExecuteTime": {
     "end_time": "2023-07-04T11:55:42.875910300Z",
     "start_time": "2023-07-04T11:55:39.664774100Z"
    }
   }
  },
  {
   "cell_type": "code",
   "execution_count": 9,
   "outputs": [
    {
     "name": "stdout",
     "output_type": "stream",
     "text": [
      "root\n",
      " |-- user_id: string (nullable = true)\n",
      " |-- country: string (nullable = true)\n",
      " |-- browser: string (nullable = true)\n",
      " |-- OS: string (nullable = true)\n",
      " |-- age: integer (nullable = true)\n",
      "\n"
     ]
    }
   ],
   "source": [
    "df.printSchema()"
   ],
   "metadata": {
    "collapsed": false,
    "ExecuteTime": {
     "end_time": "2023-07-04T11:55:46.148410400Z",
     "start_time": "2023-07-04T11:55:46.123890800Z"
    }
   }
  },
  {
   "cell_type": "code",
   "execution_count": 10,
   "outputs": [
    {
     "name": "stdout",
     "output_type": "stream",
     "text": [
      "+-------+-------+-------+-----+---+\n",
      "|user_id|country|browser|   OS|age|\n",
      "+-------+-------+-------+-----+---+\n",
      "|   A203|  India| Chrome|  WIN| 33|\n",
      "|   A201|  China| Safari|MacOS| 35|\n",
      "|   A205|     UK|Mozilla|Linux| 25|\n",
      "+-------+-------+-------+-----+---+\n",
      "\n"
     ]
    }
   ],
   "source": [
    "df.show()"
   ],
   "metadata": {
    "collapsed": false,
    "ExecuteTime": {
     "end_time": "2023-07-04T11:55:53.491151700Z",
     "start_time": "2023-07-04T11:55:47.587175Z"
    }
   }
  },
  {
   "cell_type": "markdown",
   "source": [
    "Null Values\n",
    "\n",
    "In Spark, we can deal with null values by either replacing them with some specific value or dropping the rows/columns containing null values"
   ],
   "metadata": {
    "collapsed": false
   }
  },
  {
   "cell_type": "code",
   "execution_count": 11,
   "outputs": [],
   "source": [
    "df_na = spark.createDataFrame([(\"A203\",None,\"Chrome\",\"WIN\",33),\n",
    "                               (\"A201\",'China',None,\"MacOS\",35),\n",
    "                               (\"A205\",'UK',\"Mozilla\", \"Linux\",25)],schema=schema)"
   ],
   "metadata": {
    "collapsed": false,
    "ExecuteTime": {
     "end_time": "2023-07-04T11:55:58.802098Z",
     "start_time": "2023-07-04T11:55:58.769874800Z"
    }
   }
  },
  {
   "cell_type": "code",
   "execution_count": 12,
   "outputs": [
    {
     "name": "stdout",
     "output_type": "stream",
     "text": [
      "+-------+-------+-------+-----+---+\n",
      "|user_id|country|browser|   OS|age|\n",
      "+-------+-------+-------+-----+---+\n",
      "|   A203|   null| Chrome|  WIN| 33|\n",
      "|   A201|  China|   null|MacOS| 35|\n",
      "|   A205|     UK|Mozilla|Linux| 25|\n",
      "+-------+-------+-------+-----+---+\n",
      "\n"
     ]
    }
   ],
   "source": [
    "df_na.show()"
   ],
   "metadata": {
    "collapsed": false,
    "ExecuteTime": {
     "end_time": "2023-07-04T11:56:04.111849400Z",
     "start_time": "2023-07-04T11:55:59.930904700Z"
    }
   }
  },
  {
   "cell_type": "code",
   "execution_count": 13,
   "outputs": [
    {
     "name": "stdout",
     "output_type": "stream",
     "text": [
      "+-------+-------+-------+-----+---+\n",
      "|user_id|country|browser|   OS|age|\n",
      "+-------+-------+-------+-----+---+\n",
      "|   A203|      0| Chrome|  WIN| 33|\n",
      "|   A201|  China|      0|MacOS| 35|\n",
      "|   A205|     UK|Mozilla|Linux| 25|\n",
      "+-------+-------+-------+-----+---+\n",
      "\n"
     ]
    }
   ],
   "source": [
    "df_na.fillna('0').show()"
   ],
   "metadata": {
    "collapsed": false,
    "ExecuteTime": {
     "end_time": "2023-07-04T11:56:09.547220600Z",
     "start_time": "2023-07-04T11:56:05.188973300Z"
    }
   }
  },
  {
   "cell_type": "code",
   "execution_count": 14,
   "outputs": [
    {
     "name": "stdout",
     "output_type": "stream",
     "text": [
      "+-------+-------+-------+-----+---+\n",
      "|user_id|country|browser|   OS|age|\n",
      "+-------+-------+-------+-----+---+\n",
      "|   A203|    USA| Chrome|  WIN| 33|\n",
      "|   A201|  China| Safari|MacOS| 35|\n",
      "|   A205|     UK|Mozilla|Linux| 25|\n",
      "+-------+-------+-------+-----+---+\n",
      "\n"
     ]
    }
   ],
   "source": [
    "df_na.fillna({'country':'USA', 'browser':'Safari'}).show()"
   ],
   "metadata": {
    "collapsed": false,
    "ExecuteTime": {
     "end_time": "2023-07-04T11:56:14.010257Z",
     "start_time": "2023-07-04T11:56:09.548253Z"
    }
   }
  },
  {
   "cell_type": "code",
   "execution_count": 15,
   "outputs": [
    {
     "name": "stdout",
     "output_type": "stream",
     "text": [
      "+-------+-------+-------+-----+---+\n",
      "|user_id|country|browser|   OS|age|\n",
      "+-------+-------+-------+-----+---+\n",
      "|   A205|     UK|Mozilla|Linux| 25|\n",
      "+-------+-------+-------+-----+---+\n",
      "\n"
     ]
    }
   ],
   "source": [
    "df_na.na.drop().show()"
   ],
   "metadata": {
    "collapsed": false,
    "ExecuteTime": {
     "end_time": "2023-07-04T11:56:18.322168400Z",
     "start_time": "2023-07-04T11:56:14.015744500Z"
    }
   }
  },
  {
   "cell_type": "code",
   "execution_count": 16,
   "outputs": [
    {
     "name": "stdout",
     "output_type": "stream",
     "text": [
      "+-------+-------+-------+-----+---+\n",
      "|user_id|country|browser|   OS|age|\n",
      "+-------+-------+-------+-----+---+\n",
      "|   A201|  China|   null|MacOS| 35|\n",
      "|   A205|     UK|Mozilla|Linux| 25|\n",
      "+-------+-------+-------+-----+---+\n",
      "\n"
     ]
    }
   ],
   "source": [
    "df_na.na.drop(subset=\"country\").show()"
   ],
   "metadata": {
    "collapsed": false,
    "ExecuteTime": {
     "end_time": "2023-07-04T11:56:22.728009900Z",
     "start_time": "2023-07-04T11:56:18.326931500Z"
    }
   }
  },
  {
   "cell_type": "code",
   "execution_count": 17,
   "outputs": [
    {
     "name": "stdout",
     "output_type": "stream",
     "text": [
      "+-------+-------+-------------+-----+---+\n",
      "|user_id|country|      browser|   OS|age|\n",
      "+-------+-------+-------------+-----+---+\n",
      "|   A203|   null|Google Chrome|  WIN| 33|\n",
      "|   A201|  China|         null|MacOS| 35|\n",
      "|   A205|     UK|      Mozilla|Linux| 25|\n",
      "+-------+-------+-------------+-----+---+\n",
      "\n"
     ]
    }
   ],
   "source": [
    "df_na.replace(\"Chrome\", \"Google Chrome\").show()"
   ],
   "metadata": {
    "collapsed": false,
    "ExecuteTime": {
     "end_time": "2023-07-04T11:56:27.103252Z",
     "start_time": "2023-07-04T11:56:22.728009900Z"
    }
   }
  },
  {
   "cell_type": "code",
   "execution_count": 18,
   "outputs": [
    {
     "name": "stdout",
     "output_type": "stream",
     "text": [
      "+-------+-------+-----+---+\n",
      "|country|browser|   OS|age|\n",
      "+-------+-------+-----+---+\n",
      "|   null| Chrome|  WIN| 33|\n",
      "|  China|   null|MacOS| 35|\n",
      "|     UK|Mozilla|Linux| 25|\n",
      "+-------+-------+-----+---+\n",
      "\n"
     ]
    }
   ],
   "source": [
    "df_na.drop(\"user_id\").show()"
   ],
   "metadata": {
    "collapsed": false,
    "ExecuteTime": {
     "end_time": "2023-07-04T11:56:31.420443700Z",
     "start_time": "2023-07-04T11:56:27.104259600Z"
    }
   }
  },
  {
   "cell_type": "code",
   "execution_count": 19,
   "outputs": [],
   "source": [
    "df=spark.read.options(delimiter=',', inferSchema='True', header='True').csv(\"data/Invistico_Airline.csv\")"
   ],
   "metadata": {
    "collapsed": false,
    "ExecuteTime": {
     "end_time": "2023-07-04T11:56:32.659427Z",
     "start_time": "2023-07-04T11:56:31.420951200Z"
    }
   }
  },
  {
   "cell_type": "code",
   "execution_count": 20,
   "outputs": [
    {
     "data": {
      "text/plain": "129880"
     },
     "execution_count": 20,
     "metadata": {},
     "output_type": "execute_result"
    }
   ],
   "source": [
    "df.count()"
   ],
   "metadata": {
    "collapsed": false,
    "ExecuteTime": {
     "end_time": "2023-07-04T11:56:33.143850900Z",
     "start_time": "2023-07-04T11:56:32.662671Z"
    }
   }
  },
  {
   "cell_type": "code",
   "execution_count": 21,
   "outputs": [
    {
     "data": {
      "text/plain": "23"
     },
     "execution_count": 21,
     "metadata": {},
     "output_type": "execute_result"
    }
   ],
   "source": [
    "len(df.columns)"
   ],
   "metadata": {
    "collapsed": false,
    "ExecuteTime": {
     "end_time": "2023-07-04T11:56:33.167721900Z",
     "start_time": "2023-07-04T11:56:33.144354900Z"
    }
   }
  },
  {
   "cell_type": "code",
   "execution_count": 22,
   "outputs": [
    {
     "name": "stdout",
     "output_type": "stream",
     "text": [
      "root\n",
      " |-- satisfaction: string (nullable = true)\n",
      " |-- Gender: string (nullable = true)\n",
      " |-- Customer Type: string (nullable = true)\n",
      " |-- Age: integer (nullable = true)\n",
      " |-- Type of Travel: string (nullable = true)\n",
      " |-- Class: string (nullable = true)\n",
      " |-- Flight Distance: integer (nullable = true)\n",
      " |-- Seat comfort: integer (nullable = true)\n",
      " |-- Departure/Arrival time convenient: integer (nullable = true)\n",
      " |-- Food and drink: integer (nullable = true)\n",
      " |-- Gate location: integer (nullable = true)\n",
      " |-- Inflight wifi service: integer (nullable = true)\n",
      " |-- Inflight entertainment: integer (nullable = true)\n",
      " |-- Online support: integer (nullable = true)\n",
      " |-- Ease of Online booking: integer (nullable = true)\n",
      " |-- On-board service: integer (nullable = true)\n",
      " |-- Leg room service: integer (nullable = true)\n",
      " |-- Baggage handling: integer (nullable = true)\n",
      " |-- Checkin service: integer (nullable = true)\n",
      " |-- Cleanliness: integer (nullable = true)\n",
      " |-- Online boarding: integer (nullable = true)\n",
      " |-- Departure Delay in Minutes: integer (nullable = true)\n",
      " |-- Arrival Delay in Minutes: integer (nullable = true)\n",
      "\n"
     ]
    }
   ],
   "source": [
    "df.printSchema()"
   ],
   "metadata": {
    "collapsed": false,
    "ExecuteTime": {
     "end_time": "2023-07-04T11:56:33.168568300Z",
     "start_time": "2023-07-04T11:56:33.164105300Z"
    }
   }
  },
  {
   "cell_type": "code",
   "execution_count": 23,
   "outputs": [
    {
     "name": "stdout",
     "output_type": "stream",
     "text": [
      "+------------+------+--------------+---+---------------+--------+---------------+------------+---------------------------------+--------------+-------------+---------------------+----------------------+--------------+----------------------+----------------+----------------+----------------+---------------+-----------+---------------+--------------------------+------------------------+\n",
      "|satisfaction|Gender| Customer Type|Age| Type of Travel|   Class|Flight Distance|Seat comfort|Departure/Arrival time convenient|Food and drink|Gate location|Inflight wifi service|Inflight entertainment|Online support|Ease of Online booking|On-board service|Leg room service|Baggage handling|Checkin service|Cleanliness|Online boarding|Departure Delay in Minutes|Arrival Delay in Minutes|\n",
      "+------------+------+--------------+---+---------------+--------+---------------+------------+---------------------------------+--------------+-------------+---------------------+----------------------+--------------+----------------------+----------------+----------------+----------------+---------------+-----------+---------------+--------------------------+------------------------+\n",
      "|   satisfied|Female|Loyal Customer| 65|Personal Travel|     Eco|            265|           0|                                0|             0|            2|                    2|                     4|             2|                     3|               3|               0|               3|              5|          3|              2|                         0|                       0|\n",
      "|   satisfied|  Male|Loyal Customer| 47|Personal Travel|Business|           2464|           0|                                0|             0|            3|                    0|                     2|             2|                     3|               4|               4|               4|              2|          3|              2|                       310|                     305|\n",
      "|   satisfied|Female|Loyal Customer| 15|Personal Travel|     Eco|           2138|           0|                                0|             0|            3|                    2|                     0|             2|                     2|               3|               3|               4|              4|          4|              2|                         0|                       0|\n",
      "+------------+------+--------------+---+---------------+--------+---------------+------------+---------------------------------+--------------+-------------+---------------------+----------------------+--------------+----------------------+----------------+----------------+----------------+---------------+-----------+---------------+--------------------------+------------------------+\n",
      "only showing top 3 rows\n",
      "\n"
     ]
    }
   ],
   "source": [
    "df.show(3)"
   ],
   "metadata": {
    "collapsed": false,
    "ExecuteTime": {
     "end_time": "2023-07-04T11:58:10.164986900Z",
     "start_time": "2023-07-04T11:58:10.018883600Z"
    }
   }
  },
  {
   "cell_type": "code",
   "execution_count": 24,
   "outputs": [
    {
     "name": "stdout",
     "output_type": "stream",
     "text": [
      "+-------+------------+------+-----------------+------------------+---------------+--------+-----------------+-----------------+---------------------------------+------------------+------------------+---------------------+----------------------+------------------+----------------------+------------------+------------------+-----------------+------------------+------------------+------------------+--------------------------+------------------------+\n",
      "|summary|satisfaction|Gender|    Customer Type|               Age| Type of Travel|   Class|  Flight Distance|     Seat comfort|Departure/Arrival time convenient|    Food and drink|     Gate location|Inflight wifi service|Inflight entertainment|    Online support|Ease of Online booking|  On-board service|  Leg room service| Baggage handling|   Checkin service|       Cleanliness|   Online boarding|Departure Delay in Minutes|Arrival Delay in Minutes|\n",
      "+-------+------------+------+-----------------+------------------+---------------+--------+-----------------+-----------------+---------------------------------+------------------+------------------+---------------------+----------------------+------------------+----------------------+------------------+------------------+-----------------+------------------+------------------+------------------+--------------------------+------------------------+\n",
      "|  count|      129880|129880|           129880|            129880|         129880|  129880|           129880|           129880|                           129880|            129880|            129880|               129880|                129880|            129880|                129880|            129880|            129880|           129880|            129880|            129880|            129880|                    129880|                  129487|\n",
      "|   mean|        null|  null|             null| 39.42795657530028|           null|    null|1981.409054511857|2.838597166615337|                2.990645210963967| 2.851994148444718| 2.990421927933477|   3.2491299661225748|    3.3834770557437635| 3.519702802587003|    3.4721050200184784| 3.465075454265476| 3.485902371419772|3.695672928857407|3.3408068986757007|3.7057591623036648|3.3525870033877427|        14.713712657838004|       15.09112883918849|\n",
      "| stddev|        null|  null|             null|15.119359950371694|           null|    null|1027.115605613396|1.392983243269908|               1.5272243703451154|1.4437293865730398|1.3059698939850481|   1.3188175196680627|    1.3460591444981043|1.3065106903517547|     1.305559648028587|1.2708355823355144|1.2922259830022584|1.156483396739701| 1.260582284954589|1.1517739117986914|1.2987145021407451|         38.07112621503648|       38.46565024011906|\n",
      "|    min|dissatisfied|Female|   Loyal Customer|                 7|Business travel|Business|               50|                0|                                0|                 0|                 0|                    0|                     0|                 0|                     0|                 0|                 0|                1|                 0|                 0|                 0|                         0|                       0|\n",
      "|    25%|        null|  null|             null|                27|           null|    null|             1359|                2|                                2|                 2|                 2|                    2|                     2|                 3|                     2|                 3|                 2|                3|                 3|                 3|                 2|                         0|                       0|\n",
      "|    50%|        null|  null|             null|                40|           null|    null|             1925|                3|                                3|                 3|                 3|                    3|                     4|                 4|                     4|                 4|                 4|                4|                 3|                 4|                 4|                         0|                       0|\n",
      "|    75%|        null|  null|             null|                51|           null|    null|             2543|                4|                                4|                 4|                 4|                    4|                     4|                 5|                     5|                 4|                 5|                5|                 4|                 5|                 4|                        12|                      13|\n",
      "|    max|   satisfied|  Male|disloyal Customer|                85|Personal Travel|Eco Plus|             6951|                5|                                5|                 5|                 5|                    5|                     5|                 5|                     5|                 5|                 5|                5|                 5|                 5|                 5|                      1592|                    1584|\n",
      "+-------+------------+------+-----------------+------------------+---------------+--------+-----------------+-----------------+---------------------------------+------------------+------------------+---------------------+----------------------+------------------+----------------------+------------------+------------------+-----------------+------------------+------------------+------------------+--------------------------+------------------------+\n",
      "\n"
     ]
    }
   ],
   "source": [
    "df.summary().show()"
   ],
   "metadata": {
    "collapsed": false,
    "ExecuteTime": {
     "end_time": "2023-07-04T11:58:48.194149400Z",
     "start_time": "2023-07-04T11:58:43.802697500Z"
    }
   }
  },
  {
   "cell_type": "markdown",
   "source": [
    "Subset of a Dataframe\n",
    "A subset of a dataframe can be created, based on multiple conditions in which we either select a few rows, columns, or data with certain filters in place.\n",
    "• Select\n",
    "• Filter\n",
    "• Where"
   ],
   "metadata": {
    "collapsed": false
   }
  },
  {
   "cell_type": "markdown",
   "source": [
    "Select"
   ],
   "metadata": {
    "collapsed": false
   }
  },
  {
   "cell_type": "code",
   "execution_count": 27,
   "outputs": [
    {
     "name": "stdout",
     "output_type": "stream",
     "text": [
      "+------------+--------+------+\n",
      "|satisfaction|   Class|Gender|\n",
      "+------------+--------+------+\n",
      "|   satisfied|     Eco|Female|\n",
      "|   satisfied|Business|  Male|\n",
      "|   satisfied|     Eco|Female|\n",
      "|   satisfied|     Eco|Female|\n",
      "|   satisfied|     Eco|Female|\n",
      "|   satisfied|     Eco|  Male|\n",
      "|   satisfied|     Eco|Female|\n",
      "|   satisfied|     Eco|  Male|\n",
      "|   satisfied|Business|Female|\n",
      "|   satisfied|     Eco|  Male|\n",
      "|   satisfied|     Eco|Female|\n",
      "|   satisfied|     Eco|Female|\n",
      "|   satisfied|     Eco|  Male|\n",
      "|   satisfied|     Eco|  Male|\n",
      "|   satisfied|     Eco|Female|\n",
      "|   satisfied|     Eco|  Male|\n",
      "|   satisfied|     Eco|Female|\n",
      "|   satisfied|Business|Female|\n",
      "|   satisfied|     Eco|Female|\n",
      "|   satisfied|     Eco|Female|\n",
      "+------------+--------+------+\n",
      "only showing top 20 rows\n",
      "\n"
     ]
    }
   ],
   "source": [
    "df.select(['satisfaction','Class', 'Gender']).show()"
   ],
   "metadata": {
    "collapsed": false,
    "ExecuteTime": {
     "end_time": "2023-07-04T12:01:39.129719400Z",
     "start_time": "2023-07-04T12:01:39.051465600Z"
    }
   }
  },
  {
   "cell_type": "code",
   "execution_count": 28,
   "outputs": [
    {
     "data": {
      "text/plain": "10054"
     },
     "execution_count": 28,
     "metadata": {},
     "output_type": "execute_result"
    }
   ],
   "source": [
    "df.filter(df['Age'] > 60).count()"
   ],
   "metadata": {
    "collapsed": false,
    "ExecuteTime": {
     "end_time": "2023-07-04T12:02:10.876715200Z",
     "start_time": "2023-07-04T12:02:10.556248Z"
    }
   }
  },
  {
   "cell_type": "code",
   "execution_count": 29,
   "outputs": [
    {
     "name": "stdout",
     "output_type": "stream",
     "text": [
      "+------------+------+--------------+---+---------------+--------+---------------+------------+---------------------------------+--------------+-------------+---------------------+----------------------+--------------+----------------------+----------------+----------------+----------------+---------------+-----------+---------------+--------------------------+------------------------+\n",
      "|satisfaction|Gender| Customer Type|Age| Type of Travel|   Class|Flight Distance|Seat comfort|Departure/Arrival time convenient|Food and drink|Gate location|Inflight wifi service|Inflight entertainment|Online support|Ease of Online booking|On-board service|Leg room service|Baggage handling|Checkin service|Cleanliness|Online boarding|Departure Delay in Minutes|Arrival Delay in Minutes|\n",
      "+------------+------+--------------+---+---------------+--------+---------------+------------+---------------------------------+--------------+-------------+---------------------+----------------------+--------------+----------------------+----------------+----------------+----------------+---------------+-----------+---------------+--------------------------+------------------------+\n",
      "|   satisfied|Female|Loyal Customer| 65|Personal Travel|     Eco|            265|           0|                                0|             0|            2|                    2|                     4|             2|                     3|               3|               0|               3|              5|          3|              2|                         0|                       0|\n",
      "|   satisfied|Female|Loyal Customer| 70|Personal Travel|     Eco|            354|           0|                                0|             0|            3|                    4|                     3|             4|                     2|               2|               0|               2|              4|          2|              5|                         0|                       0|\n",
      "|   satisfied|Female|Loyal Customer| 66|Personal Travel|     Eco|            227|           0|                                0|             0|            3|                    2|                     5|             5|                     5|               5|               0|               5|              5|          5|              3|                        17|                      15|\n",
      "|   satisfied|  Male|Loyal Customer| 62|Personal Travel|     Eco|           1695|           0|                                0|             0|            4|                    5|                     0|             5|                     5|               1|               3|               2|              2|          4|              5|                         0|                       0|\n",
      "|   satisfied|  Male|Loyal Customer| 64|Personal Travel|     Eco|           1707|           0|                                1|             0|            2|                    5|                     0|             3|                     5|               4|               4|               2|              3|          2|              5|                         0|                       0|\n",
      "|   satisfied|  Male|Loyal Customer| 62|Personal Travel|Eco Plus|           2948|           0|                                1|             0|            3|                    5|                     0|             5|                     5|               4|               1|               2|              2|          2|              5|                        34|                      19|\n",
      "|   satisfied|Female|Loyal Customer| 65|Personal Travel|     Eco|            423|           0|                                1|             0|            3|                    4|                     4|             3|                     2|               2|               0|               1|              3|          2|              4|                         0|                       0|\n",
      "|   satisfied|  Male|Loyal Customer| 70|Personal Travel|     Eco|           1650|           0|                                1|             0|            4|                    4|                     0|             4|                     4|               1|               4|               4|              4|          4|              4|                        19|                      45|\n",
      "|   satisfied|Female|Loyal Customer| 67|Personal Travel|     Eco|            465|           0|                                1|             0|            4|                    2|                     3|             4|                     4|               4|               0|               2|              1|          4|              3|                        35|                      69|\n",
      "|   satisfied|  Male|Loyal Customer| 69|Personal Travel|     Eco|           1428|           0|                                1|             0|            4|                    4|                     0|             4|                     4|               4|               4|               3|              2|          3|              4|                         0|                       0|\n",
      "|   satisfied|  Male|Loyal Customer| 64|Personal Travel|     Eco|           2141|           0|                                2|             0|            2|                    4|                     0|             2|                     4|               2|               2|               3|              2|          2|              4|                         6|                       1|\n",
      "|   satisfied|Female|Loyal Customer| 64|Personal Travel|     Eco|           2441|           0|                                2|             0|            3|                    0|                     3|             3|                     1|               2|               4|               4|              3|          2|              3|                         0|                       0|\n",
      "|   satisfied|  Male|Loyal Customer| 67|Personal Travel|     Eco|           2532|           0|                                2|             0|            3|                    2|                     0|             2|                     2|               4|               3|               3|              3|          4|              2|                         0|                       0|\n",
      "|   satisfied|Female|Loyal Customer| 63|Personal Travel|     Eco|           1109|           0|                                2|             0|            3|                    3|                     3|             3|                     4|               4|               0|               4|              1|          4|              1|                         0|                       0|\n",
      "|   satisfied|  Male|Loyal Customer| 70|Personal Travel|     Eco|           1686|           0|                                2|             0|            3|                    1|                     0|             1|                     1|               3|               1|               2|              3|          2|              1|                         0|                       0|\n",
      "|   satisfied|  Male|Loyal Customer| 65|Personal Travel|Business|            651|           0|                                2|             0|            3|                    3|                     4|             4|                     3|               3|               0|               3|              1|          3|              2|                         0|                       0|\n",
      "|   satisfied|Female|Loyal Customer| 65|Personal Travel|     Eco|            614|           0|                                2|             0|            3|                    4|                     5|             5|                     2|               2|               0|               2|              4|          2|              3|                        90|                      80|\n",
      "|   satisfied|Female|Loyal Customer| 64|Personal Travel|     Eco|            419|           0|                                2|             0|            3|                    3|                     4|             3|                     1|               1|               0|               1|              3|          1|              1|                         0|                       0|\n",
      "|   satisfied|  Male|Loyal Customer| 61|Personal Travel|     Eco|           1119|           0|                                2|             0|            3|                    3|                     0|             3|                     3|               2|               1|               4|              3|          4|              3|                         2|                       0|\n",
      "|   satisfied|Female|Loyal Customer| 61|Personal Travel|     Eco|            291|           0|                                2|             0|            3|                    1|                     3|             4|                     2|               2|               0|               2|              1|          2|              1|                         0|                       2|\n",
      "+------------+------+--------------+---+---------------+--------+---------------+------------+---------------------------------+--------------+-------------+---------------------+----------------------+--------------+----------------------+----------------+----------------+----------------+---------------+-----------+---------------+--------------------------+------------------------+\n",
      "only showing top 20 rows\n",
      "\n"
     ]
    }
   ],
   "source": [
    "df.filter(df['Age'] > 60).show()"
   ],
   "metadata": {
    "collapsed": false,
    "ExecuteTime": {
     "end_time": "2023-07-04T12:02:40.557765500Z",
     "start_time": "2023-07-04T12:02:40.457262300Z"
    }
   }
  },
  {
   "cell_type": "markdown",
   "source": [
    "Filter\n",
    "We can also apply more than one filter on the dataframe, by including more conditions."
   ],
   "metadata": {
    "collapsed": false
   }
  },
  {
   "cell_type": "code",
   "execution_count": 31,
   "outputs": [
    {
     "data": {
      "text/plain": "16721"
     },
     "execution_count": 31,
     "metadata": {},
     "output_type": "execute_result"
    }
   ],
   "source": [
    "df.filter(df['Age'] > 50).filter(df['Gender'] == 'Male').count()"
   ],
   "metadata": {
    "collapsed": false,
    "ExecuteTime": {
     "end_time": "2023-07-04T12:04:02.345728700Z",
     "start_time": "2023-07-04T12:04:02.115385400Z"
    }
   }
  },
  {
   "cell_type": "markdown",
   "source": [
    "Where"
   ],
   "metadata": {
    "collapsed": false
   }
  },
  {
   "cell_type": "code",
   "execution_count": 33,
   "outputs": [
    {
     "data": {
      "text/plain": "10252"
     },
     "execution_count": 33,
     "metadata": {},
     "output_type": "execute_result"
    }
   ],
   "source": [
    "df.where((df['Age'] > 55) & (df['Class'] == 'Eco')).count()"
   ],
   "metadata": {
    "collapsed": false,
    "ExecuteTime": {
     "end_time": "2023-07-04T12:05:30.483810100Z",
     "start_time": "2023-07-04T12:05:30.286010700Z"
    }
   }
  },
  {
   "cell_type": "markdown",
   "source": [
    "Aggregations\n",
    "Any kind of aggregation can be broken simply into three stages, in the following order:\n",
    "• Split\n",
    "• Apply\n",
    "• Combine"
   ],
   "metadata": {
    "collapsed": false
   }
  },
  {
   "cell_type": "markdown",
   "source": [
    "The first step is to split the data, based on a column or group of columns, followed by performing the operation on those small individual groups (count, max, avg, etc.). Once the results are in for each set of groups, the last step is to combine all these results."
   ],
   "metadata": {
    "collapsed": false
   }
  },
  {
   "cell_type": "code",
   "execution_count": 34,
   "outputs": [
    {
     "name": "stdout",
     "output_type": "stream",
     "text": [
      "+------+-----+\n",
      "|Gender|count|\n",
      "+------+-----+\n",
      "|Female|65899|\n",
      "|  Male|63981|\n",
      "+------+-----+\n",
      "\n"
     ]
    }
   ],
   "source": [
    " df.groupBy('Gender').count().show()"
   ],
   "metadata": {
    "collapsed": false,
    "ExecuteTime": {
     "end_time": "2023-07-04T12:07:19.681233500Z",
     "start_time": "2023-07-04T12:07:19.246100Z"
    }
   }
  },
  {
   "cell_type": "code",
   "execution_count": 36,
   "outputs": [
    {
     "name": "stdout",
     "output_type": "stream",
     "text": [
      " Aggregation for satisfaction\n",
      " Aggregation for Gender\n",
      " Aggregation for Customer Type\n",
      " Aggregation for Type of Travel\n",
      " Aggregation for Class\n",
      " Aggregation for Flight Distance\n",
      " Aggregation for Seat comfort\n",
      " Aggregation for Departure/Arrival time convenient\n",
      " Aggregation for Food and drink\n",
      " Aggregation for Gate location\n",
      " Aggregation for Inflight wifi service\n",
      " Aggregation for Inflight entertainment\n",
      " Aggregation for Online support\n",
      " Aggregation for Ease of Online booking\n",
      " Aggregation for On-board service\n",
      " Aggregation for Leg room service\n",
      " Aggregation for Baggage handling\n",
      " Aggregation for Checkin service\n",
      " Aggregation for Cleanliness\n",
      " Aggregation for Online boarding\n",
      " Aggregation for Departure Delay in Minutes\n",
      " Aggregation for Arrival Delay in Minutes\n",
      "+------------------------+-----+\n",
      "|Arrival Delay in Minutes|count|\n",
      "+------------------------+-----+\n",
      "|0                       |72753|\n",
      "|1                       |2747 |\n",
      "|2                       |2587 |\n",
      "|3                       |2442 |\n",
      "|4                       |2373 |\n",
      "|5                       |2083 |\n",
      "|6                       |2021 |\n",
      "|7                       |1794 |\n",
      "|8                       |1751 |\n",
      "|9                       |1566 |\n",
      "|10                      |1466 |\n",
      "|11                      |1438 |\n",
      "|12                      |1359 |\n",
      "|13                      |1340 |\n",
      "|14                      |1159 |\n",
      "|15                      |1050 |\n",
      "|17                      |1042 |\n",
      "|16                      |1037 |\n",
      "|18                      |938  |\n",
      "|19                      |884  |\n",
      "+------------------------+-----+\n",
      "only showing top 20 rows\n",
      "\n"
     ]
    }
   ],
   "source": [
    "for col in df.columns:\n",
    "    if col !='Age':\n",
    "        print(f\" Aggregation for {col}\")\n",
    "df.groupBy(col).count().orderBy('count',ascending= False).show(truncate=False)"
   ],
   "metadata": {
    "collapsed": false,
    "ExecuteTime": {
     "end_time": "2023-07-04T12:09:02.092647900Z",
     "start_time": "2023-07-04T12:09:01.475630100Z"
    }
   }
  },
  {
   "cell_type": "markdown",
   "source": [
    "We can have different kinds of operations on groups of records, such as:\n",
    "• Mean\n",
    "• Max\n",
    "• Min\n",
    "• Sum"
   ],
   "metadata": {
    "collapsed": false
   }
  },
  {
   "cell_type": "code",
   "execution_count": 37,
   "outputs": [
    {
     "name": "stdout",
     "output_type": "stream",
     "text": [
      "+--------+-----------------+\n",
      "|   Class|         avg(Age)|\n",
      "+--------+-----------------+\n",
      "|Eco Plus|38.72893422590585|\n",
      "|Business|41.61727799227799|\n",
      "|     Eco|37.20686343446123|\n",
      "+--------+-----------------+\n",
      "\n"
     ]
    }
   ],
   "source": [
    "df.groupBy('Class').agg(F.mean('Age')).show()"
   ],
   "metadata": {
    "collapsed": false,
    "ExecuteTime": {
     "end_time": "2023-07-04T12:10:24.780823600Z",
     "start_time": "2023-07-04T12:10:24.347379300Z"
    }
   }
  },
  {
   "cell_type": "code",
   "execution_count": 39,
   "outputs": [
    {
     "name": "stdout",
     "output_type": "stream",
     "text": [
      "+--------+--------+\n",
      "|   Class|max(Age)|\n",
      "+--------+--------+\n",
      "|Eco Plus|      85|\n",
      "|Business|      85|\n",
      "|     Eco|      85|\n",
      "+--------+--------+\n",
      "\n"
     ]
    }
   ],
   "source": [
    "df.groupBy('Class').agg(F.max('Age')).show()"
   ],
   "metadata": {
    "collapsed": false,
    "ExecuteTime": {
     "end_time": "2023-07-04T12:11:30.489386300Z",
     "start_time": "2023-07-04T12:11:30.218755600Z"
    }
   }
  },
  {
   "cell_type": "code",
   "execution_count": 40,
   "outputs": [
    {
     "name": "stdout",
     "output_type": "stream",
     "text": [
      "+-----------------+--------+\n",
      "|    Customer Type|min(Age)|\n",
      "+-----------------+--------+\n",
      "|   Loyal Customer|       7|\n",
      "|disloyal Customer|       7|\n",
      "+-----------------+--------+\n",
      "\n"
     ]
    }
   ],
   "source": [
    "df.groupBy('Customer Type').agg(F.min('Age')).show()"
   ],
   "metadata": {
    "collapsed": false,
    "ExecuteTime": {
     "end_time": "2023-07-04T12:12:05.789854600Z",
     "start_time": "2023-07-04T12:12:05.549910300Z"
    }
   }
  },
  {
   "cell_type": "code",
   "execution_count": 41,
   "outputs": [
    {
     "name": "stdout",
     "output_type": "stream",
     "text": [
      "+-----------------+--------------------+\n",
      "|    Customer Type|sum(Flight Distance)|\n",
      "+-----------------+--------------------+\n",
      "|   Loyal Customer|           209250457|\n",
      "|disloyal Customer|            48094951|\n",
      "+-----------------+--------------------+\n",
      "\n"
     ]
    }
   ],
   "source": [
    "df.groupBy('Customer Type').agg(F.sum('Flight Distance')).show()"
   ],
   "metadata": {
    "collapsed": false,
    "ExecuteTime": {
     "end_time": "2023-07-04T12:12:42.188740500Z",
     "start_time": "2023-07-04T12:12:41.923455600Z"
    }
   }
  },
  {
   "cell_type": "code",
   "execution_count": 42,
   "outputs": [
    {
     "name": "stdout",
     "output_type": "stream",
     "text": [
      "+------------+------+-----------------+---+---------------+--------+---------------+------------+---------------------------------+--------------+-------------+---------------------+----------------------+--------------+----------------------+----------------+----------------+----------------+---------------+-----------+---------------+--------------------------+------------------------+\n",
      "|satisfaction|Gender|    Customer Type|Age| Type of Travel|   Class|Flight Distance|Seat comfort|Departure/Arrival time convenient|Food and drink|Gate location|Inflight wifi service|Inflight entertainment|Online support|Ease of Online booking|On-board service|Leg room service|Baggage handling|Checkin service|Cleanliness|Online boarding|Departure Delay in Minutes|Arrival Delay in Minutes|\n",
      "+------------+------+-----------------+---+---------------+--------+---------------+------------+---------------------------------+--------------+-------------+---------------------+----------------------+--------------+----------------------+----------------+----------------+----------------+---------------+-----------+---------------+--------------------------+------------------------+\n",
      "|dissatisfied|Female|disloyal Customer| 85|Business travel|Business|           2057|           2|                                2|             2|            3|                    2|                     3|             3|                     1|               2|               2|               2|              3|          2|              3|                         0|                       0|\n",
      "|dissatisfied|Female|   Loyal Customer| 85|Business travel|Business|           2052|           2|                                3|             3|            3|                    4|                     2|             4|                     3|               5|               4|               4|              4|          1|              4|                        17|                      11|\n",
      "|dissatisfied|Female|disloyal Customer| 85|Business travel|Business|           2837|           1|                                1|             1|            2|                    1|                     5|             5|                     4|               2|               1|               1|              5|          1|              5|                        57|                      51|\n",
      "|dissatisfied|Female|   Loyal Customer| 85|Business travel|Business|           5022|           3|                                5|             5|            5|                    4|                     3|             3|                     3|               1|               4|               4|              3|          3|              3|                         0|                       0|\n",
      "|dissatisfied|Female|disloyal Customer| 85|Business travel|Business|           2565|           2|                                2|             2|            3|                    2|                     2|             5|                     2|               4|               3|               1|              5|          2|              5|                         0|                       0|\n",
      "|   satisfied|Female|   Loyal Customer| 85|Business travel|Business|           2007|           2|                                2|             4|            2|                    4|                     3|             4|                     5|               5|               3|               4|              4|          4|              4|                         0|                       0|\n",
      "|dissatisfied|Female|disloyal Customer| 85|Business travel|Business|           2865|           2|                                2|             2|            4|                    2|                     3|             3|                     2|               3|               4|               4|              3|          3|              3|                         0|                       0|\n",
      "|   satisfied|Female|   Loyal Customer| 85|Business travel|Business|           2182|           1|                                1|             1|            1|                    4|                     4|             4|                     5|               5|               4|               5|              4|          5|              4|                         0|                       0|\n",
      "|dissatisfied|Female|disloyal Customer| 85|Business travel|     Eco|           2309|           3|                                2|             3|            3|                    3|                     3|             3|                     3|               1|               2|               2|              3|          1|              3|                         0|                       0|\n",
      "|dissatisfied|Female|   Loyal Customer| 85|Business travel|Eco Plus|           1674|           4|                                4|             4|            4|                    4|                     4|             4|                     2|               1|               3|               4|              4|          1|              4|                         3|                       0|\n",
      "|dissatisfied|Female|disloyal Customer| 85|Business travel|Business|           2507|           3|                                3|             3|            4|                    3|                     1|             1|                     3|               1|               3|               3|              1|          2|              1|                        58|                      59|\n",
      "|   satisfied|Female|   Loyal Customer| 85|Business travel|Business|           4630|           1|                                3|             1|            1|                    5|                     3|             5|                     5|               5|               5|               1|              5|          5|              5|                         0|                       0|\n",
      "|dissatisfied|  Male|disloyal Customer| 85|Business travel|Business|           3072|           3|                                3|             3|            4|                    3|                     5|             5|                     3|               4|               3|               3|              5|          1|              5|                         0|                       7|\n",
      "|   satisfied|  Male|   Loyal Customer| 85|Business travel|Business|           3615|           1|                                1|             5|            1|                    5|                     4|             4|                     3|               4|               5|               5|              4|          4|              4|                        82|                      76|\n",
      "|dissatisfied|  Male|disloyal Customer| 85|Business travel|Business|           2329|           3|                                4|             4|            4|                    3|                     3|             3|                     4|               5|               4|               4|              3|          4|              3|                         8|                       1|\n",
      "|   satisfied|Female|   Loyal Customer| 85|Business travel|Business|           2918|           4|                                4|             4|            4|                    5|                     5|             5|                     2|               4|               4|               4|              5|          2|              5|                         0|                       5|\n",
      "|   satisfied|Female|disloyal Customer| 85|Business travel|Business|           1965|           4|                                4|             4|            3|                    4|                     4|             4|                     2|               1|               5|               4|              4|          4|              4|                         0|                       0|\n",
      "|dissatisfied|  Male|disloyal Customer| 85|Business travel|     Eco|           2460|           4|                                5|             5|            4|                    5|                     4|             4|                     2|               2|               4|               3|              4|          1|              4|                         0|                       9|\n",
      "|dissatisfied|  Male|   Loyal Customer| 85|Business travel|Eco Plus|           1961|           1|                                3|             3|            3|                    1|                     1|             1|                     2|               5|               4|               3|              1|          4|              1|                         0|                       8|\n",
      "|dissatisfied|  Male|   Loyal Customer| 85|Business travel|     Eco|           1814|           2|                                5|             5|            5|                    2|                     2|             2|                     4|               1|               3|               3|              2|          2|              2|                        65|                      73|\n",
      "+------------+------+-----------------+---+---------------+--------+---------------+------------+---------------------------------+--------------+-------------+---------------------+----------------------+--------------+----------------------+----------------+----------------+----------------+---------------+-----------+---------------+--------------------------+------------------------+\n",
      "only showing top 20 rows\n",
      "\n"
     ]
    }
   ],
   "source": [
    "df.sort(\"Age\", ascending=False).show()"
   ],
   "metadata": {
    "collapsed": false,
    "ExecuteTime": {
     "end_time": "2023-07-04T12:13:07.083150700Z",
     "start_time": "2023-07-04T12:13:06.820609300Z"
    }
   }
  },
  {
   "cell_type": "code",
   "execution_count": 44,
   "outputs": [
    {
     "name": "stdout",
     "output_type": "stream",
     "text": [
      "+-----------------+-----------------+\n",
      "|Customer Type    |avg_age          |\n",
      "+-----------------+-----------------+\n",
      "|Loyal Customer   |41.46200754005655|\n",
      "|disloyal Customer|30.35256518082422|\n",
      "+-----------------+-----------------+\n",
      "\n"
     ]
    }
   ],
   "source": [
    "df.groupBy('Customer Type').agg(F.avg('Age').alias('avg_age')).orderBy('avg_age',ascending=False).show(truncate=False)"
   ],
   "metadata": {
    "collapsed": false,
    "ExecuteTime": {
     "end_time": "2023-07-04T12:14:51.772438400Z",
     "start_time": "2023-07-04T12:14:51.523383600Z"
    }
   }
  },
  {
   "cell_type": "code",
   "execution_count": 45,
   "outputs": [
    {
     "name": "stdout",
     "output_type": "stream",
     "text": [
      "+--------+---------------+\n",
      "|   Class|max_fl_distance|\n",
      "+--------+---------------+\n",
      "|Business|           6951|\n",
      "|     Eco|           6924|\n",
      "|Eco Plus|           6889|\n",
      "+--------+---------------+\n",
      "\n"
     ]
    }
   ],
   "source": [
    "df.groupBy('Class').agg(F.max('Flight Distance').alias('max_fl_distance')).orderBy('max_fl_distance',ascending=False).show()"
   ],
   "metadata": {
    "collapsed": false,
    "ExecuteTime": {
     "end_time": "2023-07-04T12:15:53.982628Z",
     "start_time": "2023-07-04T12:15:53.757929Z"
    }
   }
  },
  {
   "cell_type": "markdown",
   "source": [
    "Collect\n",
    "Collect list provides all the values in the original order of occurrence (they can be reversed as well), and collect set provides only the unique values"
   ],
   "metadata": {
    "collapsed": false
   }
  },
  {
   "cell_type": "code",
   "execution_count": 48,
   "outputs": [
    {
     "name": "stdout",
     "output_type": "stream",
     "text": [
      "+-----------------+--------+----------------------------+\n",
      "|    Customer Type|   Class|collect_set(Online boarding)|\n",
      "+-----------------+--------+----------------------------+\n",
      "|   Loyal Customer|Business|          [0, 1, 2, 3, 4, 5]|\n",
      "|   Loyal Customer|     Eco|          [0, 1, 2, 3, 4, 5]|\n",
      "|disloyal Customer|Eco Plus|             [1, 2, 3, 4, 5]|\n",
      "|   Loyal Customer|Eco Plus|          [0, 1, 2, 3, 4, 5]|\n",
      "|disloyal Customer|     Eco|             [1, 2, 3, 4, 5]|\n",
      "|disloyal Customer|Business|             [1, 2, 3, 4, 5]|\n",
      "+-----------------+--------+----------------------------+\n",
      "\n"
     ]
    }
   ],
   "source": [
    "df.groupby(\"Customer Type\", \"Class\").agg(F.collect_set(\"Online boarding\")).show()"
   ],
   "metadata": {
    "collapsed": false,
    "ExecuteTime": {
     "end_time": "2023-07-04T12:18:32.125040Z",
     "start_time": "2023-07-04T12:18:31.833466900Z"
    }
   }
  },
  {
   "cell_type": "code",
   "execution_count": 49,
   "outputs": [
    {
     "name": "stdout",
     "output_type": "stream",
     "text": [
      "+-----------------+--------+-----------------------------+\n",
      "|    Customer Type|   Class|collect_list(Online boarding)|\n",
      "+-----------------+--------+-----------------------------+\n",
      "|   Loyal Customer|Business|         [2, 4, 3, 1, 2, 3...|\n",
      "|   Loyal Customer|     Eco|         [2, 2, 3, 5, 2, 3...|\n",
      "|disloyal Customer|Eco Plus|         [3, 5, 4, 2, 5, 4...|\n",
      "|   Loyal Customer|Eco Plus|         [2, 5, 5, 1, 2, 5...|\n",
      "|disloyal Customer|     Eco|         [4, 2, 2, 2, 1, 4...|\n",
      "|disloyal Customer|Business|         [1, 4, 5, 5, 5, 2...|\n",
      "+-----------------+--------+-----------------------------+\n",
      "\n"
     ]
    }
   ],
   "source": [
    "df.groupby(\"Customer Type\", \"Class\").agg(F.collect_list(\"Online boarding\")).show()"
   ],
   "metadata": {
    "collapsed": false,
    "ExecuteTime": {
     "end_time": "2023-07-04T12:19:22.422334600Z",
     "start_time": "2023-07-04T12:19:22.138906900Z"
    }
   }
  },
  {
   "cell_type": "markdown",
   "source": [
    "The need to create a new column with a constant value can be very common. Therefore, we can do that in PySpark, using the 'lit' function."
   ],
   "metadata": {
    "collapsed": false
   }
  },
  {
   "cell_type": "code",
   "execution_count": 50,
   "outputs": [],
   "source": [
    "df=df.withColumn('constant',F.lit('resolved'))"
   ],
   "metadata": {
    "collapsed": false,
    "ExecuteTime": {
     "end_time": "2023-07-04T12:20:46.825893200Z",
     "start_time": "2023-07-04T12:20:46.810263700Z"
    }
   }
  },
  {
   "cell_type": "code",
   "execution_count": 51,
   "outputs": [
    {
     "name": "stdout",
     "output_type": "stream",
     "text": [
      "+--------------+------+--------+\n",
      "| Customer Type|Gender|constant|\n",
      "+--------------+------+--------+\n",
      "|Loyal Customer|Female|resolved|\n",
      "|Loyal Customer|  Male|resolved|\n",
      "|Loyal Customer|Female|resolved|\n",
      "|Loyal Customer|Female|resolved|\n",
      "|Loyal Customer|Female|resolved|\n",
      "|Loyal Customer|  Male|resolved|\n",
      "|Loyal Customer|Female|resolved|\n",
      "|Loyal Customer|  Male|resolved|\n",
      "|Loyal Customer|Female|resolved|\n",
      "|Loyal Customer|  Male|resolved|\n",
      "|Loyal Customer|Female|resolved|\n",
      "|Loyal Customer|Female|resolved|\n",
      "|Loyal Customer|  Male|resolved|\n",
      "|Loyal Customer|  Male|resolved|\n",
      "|Loyal Customer|Female|resolved|\n",
      "|Loyal Customer|  Male|resolved|\n",
      "|Loyal Customer|Female|resolved|\n",
      "|Loyal Customer|Female|resolved|\n",
      "|Loyal Customer|Female|resolved|\n",
      "|Loyal Customer|Female|resolved|\n",
      "+--------------+------+--------+\n",
      "only showing top 20 rows\n",
      "\n"
     ]
    }
   ],
   "source": [
    " df.select('Customer Type', 'Gender', 'constant').show()"
   ],
   "metadata": {
    "collapsed": false,
    "ExecuteTime": {
     "end_time": "2023-07-04T12:21:16.360430100Z",
     "start_time": "2023-07-04T12:21:16.293307Z"
    }
   }
  }
 ],
 "metadata": {
  "kernelspec": {
   "display_name": "Python 3",
   "language": "python",
   "name": "python3"
  },
  "language_info": {
   "codemirror_mode": {
    "name": "ipython",
    "version": 2
   },
   "file_extension": ".py",
   "mimetype": "text/x-python",
   "name": "python",
   "nbconvert_exporter": "python",
   "pygments_lexer": "ipython2",
   "version": "2.7.6"
  }
 },
 "nbformat": 4,
 "nbformat_minor": 0
}
