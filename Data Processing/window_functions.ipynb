{
 "cells": [
  {
   "cell_type": "code",
   "execution_count": 1,
   "metadata": {
    "collapsed": true,
    "ExecuteTime": {
     "end_time": "2023-07-04T13:00:19.817148300Z",
     "start_time": "2023-07-04T13:00:19.809399400Z"
    }
   },
   "outputs": [],
   "source": [
    "import findspark\n",
    "findspark.init()"
   ]
  },
  {
   "cell_type": "code",
   "execution_count": 2,
   "outputs": [],
   "source": [
    "from pyspark.sql import SparkSession\n",
    "\n",
    "spark = SparkSession.builder.config(\"spark.serializer\", \"org.apache.spark.serializer.KryoSerializer\").getOrCreate()"
   ],
   "metadata": {
    "collapsed": false,
    "ExecuteTime": {
     "end_time": "2023-07-04T13:00:34.544187200Z",
     "start_time": "2023-07-04T13:00:31.005592500Z"
    }
   }
  },
  {
   "cell_type": "markdown",
   "source": [
    "Window Functions or Windowed Aggregates\n",
    "This functionality in PySpark allows you to perform certain operations on groups of records known as “within the window.” It calculates the results for each row within the window. A classic example of using window is the various aggregations for a user during different sessions"
   ],
   "metadata": {
    "collapsed": false
   }
  },
  {
   "cell_type": "markdown",
   "source": [
    "PySpark supports three types of window functions:\n",
    "• Aggregations\n",
    "• Ranking\n",
    "• Analytics"
   ],
   "metadata": {
    "collapsed": false
   }
  },
  {
   "cell_type": "code",
   "execution_count": 3,
   "outputs": [],
   "source": [
    "from pyspark.sql.window import Window\n",
    "from pyspark.sql.functions import col,row_number"
   ],
   "metadata": {
    "collapsed": false,
    "ExecuteTime": {
     "end_time": "2023-07-04T13:02:27.263005Z",
     "start_time": "2023-07-04T13:02:27.259009800Z"
    }
   }
  },
  {
   "cell_type": "code",
   "execution_count": 5,
   "outputs": [],
   "source": [
    "df=spark.read.options(delimiter=',', inferSchema='True', header='True').csv(\"data/Invistico_Airline.csv\")"
   ],
   "metadata": {
    "collapsed": false,
    "ExecuteTime": {
     "end_time": "2023-07-04T13:03:06.768702100Z",
     "start_time": "2023-07-04T13:03:01.734303500Z"
    }
   }
  },
  {
   "cell_type": "code",
   "execution_count": 6,
   "outputs": [],
   "source": [
    "win = Window.orderBy(df['Flight Distance'].desc())"
   ],
   "metadata": {
    "collapsed": false,
    "ExecuteTime": {
     "end_time": "2023-07-04T13:03:35.654133800Z",
     "start_time": "2023-07-04T13:03:35.637639300Z"
    }
   }
  },
  {
   "cell_type": "code",
   "execution_count": 7,
   "outputs": [],
   "source": [
    "df = df.withColumn('rank', row_number().over(win).alias('rank'))"
   ],
   "metadata": {
    "collapsed": false,
    "ExecuteTime": {
     "end_time": "2023-07-04T13:04:07.935797500Z",
     "start_time": "2023-07-04T13:04:07.881796700Z"
    }
   }
  },
  {
   "cell_type": "code",
   "execution_count": 8,
   "outputs": [
    {
     "name": "stdout",
     "output_type": "stream",
     "text": [
      "+------------+------+-----------------+---+---------------+--------+---------------+------------+---------------------------------+--------------+-------------+---------------------+----------------------+--------------+----------------------+----------------+----------------+----------------+---------------+-----------+---------------+--------------------------+------------------------+----+\n",
      "|satisfaction|Gender|    Customer Type|Age| Type of Travel|   Class|Flight Distance|Seat comfort|Departure/Arrival time convenient|Food and drink|Gate location|Inflight wifi service|Inflight entertainment|Online support|Ease of Online booking|On-board service|Leg room service|Baggage handling|Checkin service|Cleanliness|Online boarding|Departure Delay in Minutes|Arrival Delay in Minutes|rank|\n",
      "+------------+------+-----------------+---+---------------+--------+---------------+------------+---------------------------------+--------------+-------------+---------------------+----------------------+--------------+----------------------+----------------+----------------+----------------+---------------+-----------+---------------+--------------------------+------------------------+----+\n",
      "|dissatisfied|  Male|disloyal Customer| 42|Business travel|Business|           6951|           2|                                2|             2|            5|                    2|                     1|             1|                     3|               3|               4|               5|              1|          4|              1|                         1|                      25|   1|\n",
      "|   satisfied|  Male|   Loyal Customer| 46|Business travel|Business|           6950|           1|                                1|             1|            1|                    4|                     4|             4|                     1|               3|               5|               5|              4|          3|              4|                         0|                       0|   2|\n",
      "|   satisfied|Female|   Loyal Customer| 45|Business travel|Business|           6948|           1|                                1|             1|            1|                    2|                     1|             1|                     3|               3|               5|               4|              1|          3|              1|                         0|                      13|   3|\n",
      "|dissatisfied|Female|   Loyal Customer| 57|Personal Travel|     Eco|           6924|           3|                                4|             3|            5|                    3|                     3|             3|                     3|               1|               5|               1|              3|          3|              3|                        12|                      17|   4|\n",
      "|dissatisfied|Female|   Loyal Customer| 29|Personal Travel|     Eco|           6907|           2|                                4|             2|            5|                    2|                     4|             4|                     2|               2|               4|               4|              4|          3|              4|                         6|                       0|   5|\n",
      "+------------+------+-----------------+---+---------------+--------+---------------+------------+---------------------------------+--------------+-------------+---------------------+----------------------+--------------+----------------------+----------------+----------------+----------------+---------------+-----------+---------------+--------------------------+------------------------+----+\n",
      "only showing top 5 rows\n",
      "\n"
     ]
    }
   ],
   "source": [
    "df.show(5)"
   ],
   "metadata": {
    "collapsed": false,
    "ExecuteTime": {
     "end_time": "2023-07-04T13:04:15.628171100Z",
     "start_time": "2023-07-04T13:04:14.606115200Z"
    }
   }
  },
  {
   "cell_type": "markdown",
   "source": [
    "One common requirement is to find the top-three values from a category. In this case, window can be used to get the results."
   ],
   "metadata": {
    "collapsed": false
   }
  },
  {
   "cell_type": "code",
   "execution_count": 10,
   "outputs": [],
   "source": [
    "win_1 = Window.partitionBy(\"Class\").orderBy(df['Flight Distance'].desc())"
   ],
   "metadata": {
    "collapsed": false,
    "ExecuteTime": {
     "end_time": "2023-07-04T13:05:36.197484600Z",
     "start_time": "2023-07-04T13:05:36.182849400Z"
    }
   }
  },
  {
   "cell_type": "code",
   "execution_count": 11,
   "outputs": [],
   "source": [
    "df=df.withColumn('rank', row_number().over(win_1).alias('rank'))"
   ],
   "metadata": {
    "collapsed": false,
    "ExecuteTime": {
     "end_time": "2023-07-04T13:06:14.596958300Z",
     "start_time": "2023-07-04T13:06:14.560845300Z"
    }
   }
  },
  {
   "cell_type": "markdown",
   "source": [
    "Now that we have a new column rank that consists of the rank or each Class, we can filter the top-three ranks for each Class"
   ],
   "metadata": {
    "collapsed": false
   }
  },
  {
   "cell_type": "code",
   "execution_count": 12,
   "outputs": [
    {
     "name": "stdout",
     "output_type": "stream",
     "text": [
      "+----+-----+\n",
      "|rank|count|\n",
      "+----+-----+\n",
      "|   1|    3|\n",
      "|   2|    3|\n",
      "|   3|    3|\n",
      "|   4|    3|\n",
      "|   5|    3|\n",
      "|   6|    3|\n",
      "|   7|    3|\n",
      "|   8|    3|\n",
      "|   9|    3|\n",
      "|  10|    3|\n",
      "|  11|    3|\n",
      "|  12|    3|\n",
      "|  13|    3|\n",
      "|  14|    3|\n",
      "|  15|    3|\n",
      "|  16|    3|\n",
      "|  17|    3|\n",
      "|  18|    3|\n",
      "|  19|    3|\n",
      "|  20|    3|\n",
      "+----+-----+\n",
      "only showing top 20 rows\n",
      "\n"
     ]
    }
   ],
   "source": [
    "df.groupBy('rank').count().orderBy('rank').show()"
   ],
   "metadata": {
    "collapsed": false,
    "ExecuteTime": {
     "end_time": "2023-07-04T13:07:18.178622500Z",
     "start_time": "2023-07-04T13:07:16.851280700Z"
    }
   }
  },
  {
   "cell_type": "code",
   "execution_count": 13,
   "outputs": [
    {
     "name": "stdout",
     "output_type": "stream",
     "text": [
      "+------------+------+-----------------+---+---------------+--------+---------------+------------+---------------------------------+--------------+-------------+---------------------+----------------------+--------------+----------------------+----------------+----------------+----------------+---------------+-----------+---------------+--------------------------+------------------------+----+\n",
      "|satisfaction|Gender|    Customer Type|Age| Type of Travel|   Class|Flight Distance|Seat comfort|Departure/Arrival time convenient|Food and drink|Gate location|Inflight wifi service|Inflight entertainment|Online support|Ease of Online booking|On-board service|Leg room service|Baggage handling|Checkin service|Cleanliness|Online boarding|Departure Delay in Minutes|Arrival Delay in Minutes|rank|\n",
      "+------------+------+-----------------+---+---------------+--------+---------------+------------+---------------------------------+--------------+-------------+---------------------+----------------------+--------------+----------------------+----------------+----------------+----------------+---------------+-----------+---------------+--------------------------+------------------------+----+\n",
      "|dissatisfied|  Male|disloyal Customer| 42|Business travel|Business|           6951|           2|                                2|             2|            5|                    2|                     1|             1|                     3|               3|               4|               5|              1|          4|              1|                         1|                      25|   1|\n",
      "|   satisfied|  Male|   Loyal Customer| 46|Business travel|Business|           6950|           1|                                1|             1|            1|                    4|                     4|             4|                     1|               3|               5|               5|              4|          3|              4|                         0|                       0|   2|\n",
      "|   satisfied|Female|   Loyal Customer| 45|Business travel|Business|           6948|           1|                                1|             1|            1|                    2|                     1|             1|                     3|               3|               5|               4|              1|          3|              1|                         0|                      13|   3|\n",
      "|dissatisfied|Female|   Loyal Customer| 62|Personal Travel|Eco Plus|           6889|           3|                                2|             3|            3|                    3|                     4|             4|                     2|               1|               3|               4|              4|          1|              4|                         0|                       0|   1|\n",
      "|   satisfied|  Male|   Loyal Customer| 38|Business travel|Eco Plus|           6733|           4|                                4|             4|            4|                    4|                     4|             4|                     3|               4|               3|               5|              4|          5|              4|                         2|                       0|   2|\n",
      "|   satisfied|  Male|   Loyal Customer| 67|Personal Travel|Eco Plus|           6598|           5|                                5|             5|            4|                    5|                     1|             1|                     1|               3|               5|               5|              1|          3|              1|                         0|                       0|   3|\n",
      "|dissatisfied|Female|   Loyal Customer| 57|Personal Travel|     Eco|           6924|           3|                                4|             3|            5|                    3|                     3|             3|                     3|               1|               5|               1|              3|          3|              3|                        12|                      17|   1|\n",
      "|dissatisfied|Female|   Loyal Customer| 29|Personal Travel|     Eco|           6907|           2|                                4|             2|            5|                    2|                     4|             4|                     2|               2|               4|               4|              4|          3|              4|                         6|                       0|   2|\n",
      "|dissatisfied|  Male|   Loyal Customer| 27|Personal Travel|     Eco|           6882|           2|                                1|             2|            4|                    2|                     3|             3|                     2|               5|               4|               3|              3|          4|              3|                         0|                       2|   3|\n",
      "+------------+------+-----------------+---+---------------+--------+---------------+------------+---------------------------------+--------------+-------------+---------------------+----------------------+--------------+----------------------+----------------+----------------+----------------+---------------+-----------+---------------+--------------------------+------------------------+----+\n",
      "\n"
     ]
    }
   ],
   "source": [
    "df.filter(col('rank') < 4).show()"
   ],
   "metadata": {
    "collapsed": false,
    "ExecuteTime": {
     "end_time": "2023-07-04T13:07:45.631293800Z",
     "start_time": "2023-07-04T13:07:44.776770600Z"
    }
   }
  },
  {
   "cell_type": "code",
   "execution_count": null,
   "outputs": [],
   "source": [],
   "metadata": {
    "collapsed": false
   }
  }
 ],
 "metadata": {
  "kernelspec": {
   "display_name": "Python 3",
   "language": "python",
   "name": "python3"
  },
  "language_info": {
   "codemirror_mode": {
    "name": "ipython",
    "version": 2
   },
   "file_extension": ".py",
   "mimetype": "text/x-python",
   "name": "python",
   "nbconvert_exporter": "python",
   "pygments_lexer": "ipython2",
   "version": "2.7.6"
  }
 },
 "nbformat": 4,
 "nbformat_minor": 0
}
