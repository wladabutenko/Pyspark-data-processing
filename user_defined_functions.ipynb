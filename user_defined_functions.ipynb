{
 "cells": [
  {
   "cell_type": "code",
   "execution_count": 1,
   "metadata": {
    "collapsed": true,
    "ExecuteTime": {
     "end_time": "2023-07-04T12:30:24.833065400Z",
     "start_time": "2023-07-04T12:30:24.825823200Z"
    }
   },
   "outputs": [],
   "source": [
    "import findspark\n",
    "findspark.init()"
   ]
  },
  {
   "cell_type": "code",
   "execution_count": 2,
   "outputs": [],
   "source": [
    "from pyspark.sql import SparkSession"
   ],
   "metadata": {
    "collapsed": false,
    "ExecuteTime": {
     "end_time": "2023-07-04T12:30:33.303580700Z",
     "start_time": "2023-07-04T12:30:33.193499900Z"
    }
   }
  },
  {
   "cell_type": "code",
   "execution_count": 3,
   "outputs": [],
   "source": [
    "spark = SparkSession.builder.config(\"spark.serializer\", \"org.apache.spark.serializer.KryoSerializer\").getOrCreate()"
   ],
   "metadata": {
    "collapsed": false,
    "ExecuteTime": {
     "end_time": "2023-07-04T12:30:45.593734600Z",
     "start_time": "2023-07-04T12:30:42.302106700Z"
    }
   }
  },
  {
   "cell_type": "code",
   "execution_count": 4,
   "outputs": [],
   "source": [
    "from pyspark.sql.functions import udf\n",
    "from pyspark.sql.types import *"
   ],
   "metadata": {
    "collapsed": false,
    "ExecuteTime": {
     "end_time": "2023-07-04T12:30:57.581762700Z",
     "start_time": "2023-07-04T12:30:57.581762700Z"
    }
   }
  },
  {
   "cell_type": "code",
   "execution_count": 5,
   "outputs": [],
   "source": [
    "df=spark.read.options(delimiter=',', inferSchema='True', header='True').csv(\"data/Invistico_Airline.csv\")"
   ],
   "metadata": {
    "collapsed": false,
    "ExecuteTime": {
     "end_time": "2023-07-04T12:31:15.075747100Z",
     "start_time": "2023-07-04T12:31:09.266025900Z"
    }
   }
  },
  {
   "cell_type": "code",
   "execution_count": 6,
   "outputs": [
    {
     "name": "stdout",
     "output_type": "stream",
     "text": [
      "+------------+------+--------------+---+---------------+--------+---------------+------------+---------------------------------+--------------+-------------+---------------------+----------------------+--------------+----------------------+----------------+----------------+----------------+---------------+-----------+---------------+--------------------------+------------------------+\n",
      "|satisfaction|Gender| Customer Type|Age| Type of Travel|   Class|Flight Distance|Seat comfort|Departure/Arrival time convenient|Food and drink|Gate location|Inflight wifi service|Inflight entertainment|Online support|Ease of Online booking|On-board service|Leg room service|Baggage handling|Checkin service|Cleanliness|Online boarding|Departure Delay in Minutes|Arrival Delay in Minutes|\n",
      "+------------+------+--------------+---+---------------+--------+---------------+------------+---------------------------------+--------------+-------------+---------------------+----------------------+--------------+----------------------+----------------+----------------+----------------+---------------+-----------+---------------+--------------------------+------------------------+\n",
      "|   satisfied|Female|Loyal Customer| 65|Personal Travel|     Eco|            265|           0|                                0|             0|            2|                    2|                     4|             2|                     3|               3|               0|               3|              5|          3|              2|                         0|                       0|\n",
      "|   satisfied|  Male|Loyal Customer| 47|Personal Travel|Business|           2464|           0|                                0|             0|            3|                    0|                     2|             2|                     3|               4|               4|               4|              2|          3|              2|                       310|                     305|\n",
      "|   satisfied|Female|Loyal Customer| 15|Personal Travel|     Eco|           2138|           0|                                0|             0|            3|                    2|                     0|             2|                     2|               3|               3|               4|              4|          4|              2|                         0|                       0|\n",
      "|   satisfied|Female|Loyal Customer| 60|Personal Travel|     Eco|            623|           0|                                0|             0|            3|                    3|                     4|             3|                     1|               1|               0|               1|              4|          1|              3|                         0|                       0|\n",
      "|   satisfied|Female|Loyal Customer| 70|Personal Travel|     Eco|            354|           0|                                0|             0|            3|                    4|                     3|             4|                     2|               2|               0|               2|              4|          2|              5|                         0|                       0|\n",
      "+------------+------+--------------+---+---------------+--------+---------------+------------+---------------------------------+--------------+-------------+---------------------+----------------------+--------------+----------------------+----------------+----------------+----------------+---------------+-----------+---------------+--------------------------+------------------------+\n",
      "only showing top 5 rows\n",
      "\n"
     ]
    }
   ],
   "source": [
    "df.show(5)"
   ],
   "metadata": {
    "collapsed": false,
    "ExecuteTime": {
     "end_time": "2023-07-04T12:31:19.680534200Z",
     "start_time": "2023-07-04T12:31:19.409741900Z"
    }
   }
  },
  {
   "cell_type": "code",
   "execution_count": 7,
   "outputs": [
    {
     "name": "stdout",
     "output_type": "stream",
     "text": [
      "+--------+---+-----+\n",
      "|   Class|Age|count|\n",
      "+--------+---+-----+\n",
      "|     Eco|  7|  532|\n",
      "|Eco Plus|  7|   81|\n",
      "|Business|  7|   72|\n",
      "|     Eco|  8|  588|\n",
      "|Business|  8|  106|\n",
      "|Eco Plus|  8|  103|\n",
      "|Business|  9|  128|\n",
      "|     Eco|  9|  641|\n",
      "|Eco Plus|  9|   90|\n",
      "|     Eco| 10|  622|\n",
      "|Business| 10|  111|\n",
      "|Eco Plus| 10|   89|\n",
      "|Eco Plus| 11|  100|\n",
      "|Business| 11|  120|\n",
      "|     Eco| 11|  617|\n",
      "|Eco Plus| 12|   82|\n",
      "|Business| 12|  130|\n",
      "|     Eco| 12|  582|\n",
      "|Eco Plus| 13|   75|\n",
      "|     Eco| 13|  602|\n",
      "+--------+---+-----+\n",
      "only showing top 20 rows\n",
      "\n"
     ]
    }
   ],
   "source": [
    "df.groupBy('Class','Age').count().orderBy('age').show()"
   ],
   "metadata": {
    "collapsed": false,
    "ExecuteTime": {
     "end_time": "2023-07-04T12:31:53.869824300Z",
     "start_time": "2023-07-04T12:31:52.644040Z"
    }
   }
  },
  {
   "cell_type": "code",
   "execution_count": 8,
   "outputs": [],
   "source": [
    "def age_category(age):\n",
    "    if age <= 25:\n",
    "        return \"Young\"\n",
    "    elif age <= 40:\n",
    "        return \"Mid aged\"\n",
    "    elif age <= 60:\n",
    "        return \"Old\"\n",
    "    else:\n",
    "        return \"Very Old\""
   ],
   "metadata": {
    "collapsed": false,
    "ExecuteTime": {
     "end_time": "2023-07-04T12:32:28.643651800Z",
     "start_time": "2023-07-04T12:32:28.643651800Z"
    }
   }
  },
  {
   "cell_type": "code",
   "execution_count": 9,
   "outputs": [],
   "source": [
    "age_udf = udf(age_category, StringType())"
   ],
   "metadata": {
    "collapsed": false,
    "ExecuteTime": {
     "end_time": "2023-07-04T12:32:44.118696900Z",
     "start_time": "2023-07-04T12:32:44.118195500Z"
    }
   }
  },
  {
   "cell_type": "code",
   "execution_count": 10,
   "outputs": [],
   "source": [
    "df = df.withColumn('age_category', age_udf(df['Age']))"
   ],
   "metadata": {
    "collapsed": false,
    "ExecuteTime": {
     "end_time": "2023-07-04T12:32:52.525184900Z",
     "start_time": "2023-07-04T12:32:52.480151700Z"
    }
   }
  },
  {
   "cell_type": "code",
   "execution_count": 11,
   "outputs": [
    {
     "name": "stdout",
     "output_type": "stream",
     "text": [
      "+---+------------+\n",
      "|Age|age_category|\n",
      "+---+------------+\n",
      "| 65|    Very Old|\n",
      "| 47|         Old|\n",
      "| 15|       Young|\n",
      "| 60|         Old|\n",
      "| 70|    Very Old|\n",
      "| 30|    Mid aged|\n",
      "| 66|    Very Old|\n",
      "| 10|       Young|\n",
      "| 56|         Old|\n",
      "| 22|       Young|\n",
      "| 58|         Old|\n",
      "| 34|    Mid aged|\n",
      "| 62|    Very Old|\n",
      "| 35|    Mid aged|\n",
      "| 47|         Old|\n",
      "| 60|         Old|\n",
      "| 13|       Young|\n",
      "| 52|         Old|\n",
      "| 55|         Old|\n",
      "| 28|    Mid aged|\n",
      "+---+------------+\n",
      "only showing top 20 rows\n",
      "\n"
     ]
    }
   ],
   "source": [
    "df.select('Age', 'age_category').show()"
   ],
   "metadata": {
    "collapsed": false,
    "ExecuteTime": {
     "end_time": "2023-07-04T12:33:01.632581300Z",
     "start_time": "2023-07-04T12:33:00.830468400Z"
    }
   }
  },
  {
   "cell_type": "code",
   "execution_count": 12,
   "outputs": [
    {
     "name": "stdout",
     "output_type": "stream",
     "text": [
      "+------------+-----+\n",
      "|age_category|count|\n",
      "+------------+-----+\n",
      "|    Very Old|10054|\n",
      "|         Old|52554|\n",
      "|       Young|28173|\n",
      "|    Mid aged|39099|\n",
      "+------------+-----+\n",
      "\n"
     ]
    }
   ],
   "source": [
    "df.groupBy('age_category').count().show()"
   ],
   "metadata": {
    "collapsed": false,
    "ExecuteTime": {
     "end_time": "2023-07-04T12:33:22.171541800Z",
     "start_time": "2023-07-04T12:33:19.612476300Z"
    }
   }
  },
  {
   "cell_type": "markdown",
   "source": [
    "Pandas UDF\n",
    "\n",
    "Pandas UDFs are much faster and efficient, in terms of processing and execution time, compared to standard Python UDFs. The main difference\n",
    "between a normal Python UDF and a Pandas UDF is that a Python UDF is executed row by row and, therefore, really doesn’t offer the advantage of a distributed framework. It can take longer, compared to a Pandas UDF, which executes block by block and gives faster results."
   ],
   "metadata": {
    "collapsed": false
   }
  },
  {
   "cell_type": "markdown",
   "source": [
    "There are three different types of Pandas UDFs: scalar, grouped map, and grouped agg."
   ],
   "metadata": {
    "collapsed": false
   }
  },
  {
   "cell_type": "code",
   "execution_count": 13,
   "outputs": [
    {
     "name": "stdout",
     "output_type": "stream",
     "text": [
      "+-------+------------------+\n",
      "|summary|               Age|\n",
      "+-------+------------------+\n",
      "|  count|            129880|\n",
      "|   mean| 39.42795657530028|\n",
      "| stddev|15.119359950371694|\n",
      "|    min|                 7|\n",
      "|    25%|                27|\n",
      "|    50%|                40|\n",
      "|    75%|                51|\n",
      "|    max|                85|\n",
      "+-------+------------------+\n",
      "\n"
     ]
    }
   ],
   "source": [
    "df.select('Age').summary().show()"
   ],
   "metadata": {
    "collapsed": false,
    "ExecuteTime": {
     "end_time": "2023-07-04T12:34:28.376548200Z",
     "start_time": "2023-07-04T12:34:27.692267500Z"
    }
   }
  },
  {
   "cell_type": "code",
   "execution_count": 14,
   "outputs": [],
   "source": [
    "min_age = 7\n",
    "max_age = 85"
   ],
   "metadata": {
    "collapsed": false,
    "ExecuteTime": {
     "end_time": "2023-07-04T12:34:38.592999700Z",
     "start_time": "2023-07-04T12:34:38.592999700Z"
    }
   }
  },
  {
   "cell_type": "code",
   "execution_count": 17,
   "outputs": [],
   "source": [
    "import pandas as pd\n",
    "from pyspark.sql.functions import pandas_udf, PandasUDFType"
   ],
   "metadata": {
    "collapsed": false,
    "ExecuteTime": {
     "end_time": "2023-07-04T12:35:39.611451400Z",
     "start_time": "2023-07-04T12:35:38.301753200Z"
    }
   }
  },
  {
   "cell_type": "code",
   "execution_count": 16,
   "outputs": [],
   "source": [
    "def scaled_age(age):\n",
    "    sc_age = (age - min_age) / (max_age - min_age)\n",
    "    return sc_age"
   ],
   "metadata": {
    "collapsed": false,
    "ExecuteTime": {
     "end_time": "2023-07-04T12:34:56.650390100Z",
     "start_time": "2023-07-04T12:34:56.645388700Z"
    }
   }
  },
  {
   "cell_type": "code",
   "execution_count": 19,
   "outputs": [],
   "source": [
    "scaling_udf = pandas_udf(scaled_age, DoubleType())"
   ],
   "metadata": {
    "collapsed": false,
    "ExecuteTime": {
     "end_time": "2023-07-04T12:36:23.284366200Z",
     "start_time": "2023-07-04T12:36:23.212297600Z"
    }
   }
  },
  {
   "cell_type": "code",
   "execution_count": 20,
   "outputs": [
    {
     "name": "stdout",
     "output_type": "stream",
     "text": [
      "+------------+------+--------------+---+---------------+--------+---------------+------------+---------------------------------+--------------+-------------+---------------------+----------------------+--------------+----------------------+----------------+----------------+----------------+---------------+-----------+---------------+--------------------------+------------------------+------------+--------------------+\n",
      "|satisfaction|Gender|Customer Type |Age|Type of Travel |Class   |Flight Distance|Seat comfort|Departure/Arrival time convenient|Food and drink|Gate location|Inflight wifi service|Inflight entertainment|Online support|Ease of Online booking|On-board service|Leg room service|Baggage handling|Checkin service|Cleanliness|Online boarding|Departure Delay in Minutes|Arrival Delay in Minutes|age_category|scaled_age          |\n",
      "+------------+------+--------------+---+---------------+--------+---------------+------------+---------------------------------+--------------+-------------+---------------------+----------------------+--------------+----------------------+----------------+----------------+----------------+---------------+-----------+---------------+--------------------------+------------------------+------------+--------------------+\n",
      "|satisfied   |Female|Loyal Customer|65 |Personal Travel|Eco     |265            |0           |0                                |0             |2            |2                    |4                     |2             |3                     |3               |0               |3               |5              |3          |2              |0                         |0                       |Very Old    |0.7435897435897436  |\n",
      "|satisfied   |Male  |Loyal Customer|47 |Personal Travel|Business|2464           |0           |0                                |0             |3            |0                    |2                     |2             |3                     |4               |4               |4               |2              |3          |2              |310                       |305                     |Old         |0.5128205128205128  |\n",
      "|satisfied   |Female|Loyal Customer|15 |Personal Travel|Eco     |2138           |0           |0                                |0             |3            |2                    |0                     |2             |2                     |3               |3               |4               |4              |4          |2              |0                         |0                       |Young       |0.10256410256410256 |\n",
      "|satisfied   |Female|Loyal Customer|60 |Personal Travel|Eco     |623            |0           |0                                |0             |3            |3                    |4                     |3             |1                     |1               |0               |1               |4              |1          |3              |0                         |0                       |Old         |0.6794871794871795  |\n",
      "|satisfied   |Female|Loyal Customer|70 |Personal Travel|Eco     |354            |0           |0                                |0             |3            |4                    |3                     |4             |2                     |2               |0               |2               |4              |2          |5              |0                         |0                       |Very Old    |0.8076923076923077  |\n",
      "|satisfied   |Male  |Loyal Customer|30 |Personal Travel|Eco     |1894           |0           |0                                |0             |3            |2                    |0                     |2             |2                     |5               |4               |5               |5              |4          |2              |0                         |0                       |Mid aged    |0.2948717948717949  |\n",
      "|satisfied   |Female|Loyal Customer|66 |Personal Travel|Eco     |227            |0           |0                                |0             |3            |2                    |5                     |5             |5                     |5               |0               |5               |5              |5          |3              |17                        |15                      |Very Old    |0.7564102564102564  |\n",
      "|satisfied   |Male  |Loyal Customer|10 |Personal Travel|Eco     |1812           |0           |0                                |0             |3            |2                    |0                     |2             |2                     |3               |3               |4               |5              |4          |2              |0                         |0                       |Young       |0.038461538461538464|\n",
      "|satisfied   |Female|Loyal Customer|56 |Personal Travel|Business|73             |0           |0                                |0             |3            |5                    |3                     |5             |4                     |4               |0               |1               |5              |4          |4              |0                         |0                       |Old         |0.6282051282051282  |\n",
      "|satisfied   |Male  |Loyal Customer|22 |Personal Travel|Eco     |1556           |0           |0                                |0             |3            |2                    |0                     |2             |2                     |2               |4               |5               |3              |4          |2              |30                        |26                      |Young       |0.19230769230769232 |\n",
      "+------------+------+--------------+---+---------------+--------+---------------+------------+---------------------------------+--------------+-------------+---------------------+----------------------+--------------+----------------------+----------------+----------------+----------------+---------------+-----------+---------------+--------------------------+------------------------+------------+--------------------+\n",
      "only showing top 10 rows\n",
      "\n"
     ]
    }
   ],
   "source": [
    "df.withColumn(\"scaled_age\", scaling_udf(df['Age'])).show(10, False)"
   ],
   "metadata": {
    "collapsed": false,
    "ExecuteTime": {
     "end_time": "2023-07-04T12:36:36.783304Z",
     "start_time": "2023-07-04T12:36:34.159983Z"
    }
   }
  }
 ],
 "metadata": {
  "kernelspec": {
   "display_name": "Python 3",
   "language": "python",
   "name": "python3"
  },
  "language_info": {
   "codemirror_mode": {
    "name": "ipython",
    "version": 2
   },
   "file_extension": ".py",
   "mimetype": "text/x-python",
   "name": "python",
   "nbconvert_exporter": "python",
   "pygments_lexer": "ipython2",
   "version": "2.7.6"
  }
 },
 "nbformat": 4,
 "nbformat_minor": 0
}
